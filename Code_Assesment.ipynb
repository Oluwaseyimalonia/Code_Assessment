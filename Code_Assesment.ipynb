{
 "cells": [
  {
   "cell_type": "markdown",
   "id": "6e6f08b6",
   "metadata": {},
   "source": [
    "### Factorial recursion\n",
    "\n",
    "Create a python program that can be executed from the python console to calculate the factorial of a given positive integer using recursion. "
   ]
  },
  {
   "cell_type": "code",
   "execution_count": 1,
   "id": "d97bf30f",
   "metadata": {},
   "outputs": [
    {
     "name": "stdout",
     "output_type": "stream",
     "text": [
      "120\n",
      "5040\n"
     ]
    }
   ],
   "source": [
    "#Recursion is the technique of making a function call itself. \n",
    "#This technique provides a way to break complicated problems down into simple problems which are easier to solve.\n",
    "#Example 5! = 5*4*3*2*1 =120\n",
    "\n",
    "#Let's defined a fuction named recurn\n",
    "def recur(y):         \n",
    "        if y==1:       # \n",
    "            return y\n",
    "        else:\n",
    "            return y*recur(y-1)\n",
    "    \n",
    "#Cheking the result of this function.\n",
    "print(recur(5))\n",
    "print(recur(7))\n",
    "    \n",
    "   \n",
    "\n"
   ]
  },
  {
   "cell_type": "markdown",
   "id": "b5e96ca0",
   "metadata": {},
   "source": [
    "### Ibble bibble bobble \n",
    "\n",
    "Create a python that will initialise with a positive integer, and will iterate from zero to the provided positive integer and output based on the following criteria:\n",
    "\n",
    "•\tOutput “Ibble” when the number is prime\n",
    "\n",
    "•\tElse output “bibble” when the number is even \n",
    "\n",
    "•\tElse output “bobble” \n"
   ]
  },
  {
   "cell_type": "code",
   "execution_count": 2,
   "id": "3ab46af0",
   "metadata": {},
   "outputs": [],
   "source": [
    "def is_prime(Number):\n",
    "    if Number > 1:\n",
    "        for j in range(2, int(Number/2)+1):\n",
    "            if (Number % j) == 0:\n",
    "                return False\n",
    "        return True\n",
    "    else:\n",
    "        return False\n",
    "\n",
    "\n",
    "def IbbleBibbleBobble(n):\n",
    "    if n < 0:\n",
    "        print(\"print out the positives number\")\n",
    "        return\n",
    "\n",
    "    for i in range(n + 1):\n",
    "        if i > 1 and is_prime(i):\n",
    "            print(\"ibble\")\n",
    "        elif i % 2 == 0:\n",
    "            print(\"bibble\")\n",
    "        else:\n",
    "            print(\"bobble\")"
   ]
  },
  {
   "cell_type": "code",
   "execution_count": 3,
   "id": "ea4645de",
   "metadata": {},
   "outputs": [
    {
     "name": "stdout",
     "output_type": "stream",
     "text": [
      "bobble\n"
     ]
    }
   ],
   "source": [
    "print('bobble')"
   ]
  },
  {
   "cell_type": "markdown",
   "id": "2680aa01",
   "metadata": {},
   "source": [
    "### Convert numbers to words\n",
    "\n",
    "\n",
    "Create a python program that will convert a number to the corresponding words and punctuation\n",
    "Criteria:\n",
    "\n",
    "•\tThe largest value required to convert is 999,999.  Anything above that can raise an error.\n",
    "\n",
    "•\tOnly convert the integer portion of a number, so if the program receives 23.667.976 it can ignore everything after the decimal point.\n"
   ]
  },
  {
   "cell_type": "code",
   "execution_count": null,
   "id": "c10c570b",
   "metadata": {},
   "outputs": [],
   "source": [
    "# Number to Words\n",
    "\n",
    "# Main Logic\n",
    "ones = ('Zero', 'One', 'Two', 'Three', 'Four', 'Five', 'Six', 'Seven', 'Eight', 'Nine')\n",
    "\n",
    "twos = ('Ten', 'Eleven', 'Twelve', 'Thirteen', 'Fourteen', 'Fifteen', 'Sixteen', 'Seventeen', 'Eighteen', 'Nineteen')\n",
    "\n",
    "tens = ('Twenty', 'Thirty', 'Forty', 'Fifty', 'Sixty', 'Seventy', 'Eighty', 'Ninety', 'Hundred')\n",
    "\n",
    "suffixes = ('', 'Thousand', 'Million', 'Billion')\n",
    "\n",
    "#We defined a function called NumberWords\n",
    "def NumberWords(number, index):\n",
    "    \n",
    "    if number=='0':\n",
    "        return 'Zero'\n",
    "    \n",
    "    length = len(number)\n",
    "    \n",
    "    if(length > 3):\n",
    "        return False\n",
    "    \n",
    "    number = number.zfill(3)\n",
    "    words = ''\n",
    " \n",
    "    hdigit = int(number[0])\n",
    "    tdigit = int(number[1])\n",
    "    odigit = int(number[2])\n",
    "    \n",
    "    words += '' if number[0] == '0' else ones[hdigit]\n",
    "    words += ' Hundred ' if not words == '' else ''\n",
    "    \n",
    "    if(tdigit > 1):\n",
    "        words += tens[tdigit - 2]\n",
    "        words += ' '\n",
    "        words += ones[odigit]\n",
    "    \n",
    "    elif(tdigit == 1):\n",
    "        words += twos[(int(tdigit + odigit) % 10) - 1]\n",
    "        \n",
    "    elif(tdigit == 0):\n",
    "        words += ones[odigit]\n",
    "\n",
    "    if(words.endswith('Zero')):\n",
    "        words = words[:-len('Zero')]\n",
    "    else:\n",
    "        words += ' '\n",
    "     \n",
    "    if(not len(words) == 0):    \n",
    "        words += suffixes[index]\n",
    "        \n",
    "    return words;\n",
    "\n",
    "#We defined another fuction to get the words\n",
    "    \n",
    "def GetWords(number):\n",
    "    length = len(str(number))\n",
    "    \n",
    "    if length>12:\n",
    "        return 'This takes up to twelve'\n",
    "    \n",
    "    count = length // 3 if length % 3 == 0 else length // 3 + 1\n",
    "    copy = count\n",
    "    words = []\n",
    " \n",
    "    for i in range(length - 1, -1, -3):\n",
    "        words.append(process(str(number)[0 if i - 2 < 0 else i - 2 : i + 1], copy - count))\n",
    "        count -= 1;\n",
    "\n",
    "    final_words = ''\n",
    "    for s in reversed(words):\n",
    "        temp = s + ' '\n",
    "        final_words += temp\n",
    "    \n",
    "    return final_words\n",
    "\n",
    "# Let's print out the result\n",
    "number = int(input('Enter the any digit: '))\n",
    "print('%d in words is: %s' %(number, getWords(number)))"
   ]
  },
  {
   "cell_type": "code",
   "execution_count": null,
   "id": "e0b25be5",
   "metadata": {},
   "outputs": [],
   "source": []
  }
 ],
 "metadata": {
  "kernelspec": {
   "display_name": "Python 3",
   "language": "python",
   "name": "python3"
  },
  "language_info": {
   "codemirror_mode": {
    "name": "ipython",
    "version": 3
   },
   "file_extension": ".py",
   "mimetype": "text/x-python",
   "name": "python",
   "nbconvert_exporter": "python",
   "pygments_lexer": "ipython3",
   "version": "3.9.5"
  }
 },
 "nbformat": 4,
 "nbformat_minor": 5
}
